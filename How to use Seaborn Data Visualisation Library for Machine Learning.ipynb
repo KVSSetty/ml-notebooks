{
 "cells": [
  {
   "cell_type": "markdown",
   "metadata": {},
   "source": [
    "# How to use Seaborn Data Visualisation Library for Machine Learning"
   ]
  },
  {
   "cell_type": "markdown",
   "metadata": {},
   "source": [
    "## Data Visualization\n",
    "Data visualization is an important skill in applied machine learning and statistics.\n",
    "\n",
    "Statistics does indeed focus on quantitative descriptions and estimations of data. Data visualization provides an important suite of tools for gaining a qualitative understanding.\n",
    "\n",
    "This can be helpful when exploring and getting to know a dataset and can help with identifying patterns, corrupt data, outliers, and much more. With a little domain knowledge, data visualizations can be used to express and demonstrate key relationships in plots and charts that give more deep inward feelings to yourself and stakeholders than measures of association or significance.\n",
    "\n",
    "Data visualization and exploratory data analysis (EDA) are whole fields themselves and I will recommend a deeper dive into some the books mentioned at the end."
   ]
  },
  {
   "cell_type": "markdown",
   "metadata": {},
   "source": [
    "Data visualisation provides insight into the distribution and relationships between variables in a dataset.\n",
    "\n",
    "This insight can be helpful in three ways :\n",
    "- In selecting data preparation techniques to apply prior to modeling.\n",
    "- In finding types of algorithms that may be most suited to the data.\n",
    "- In trianing process visulaisation (like Tensor Board )and post analysis of the model\n",
    "\n",
    "Seaborn is a data visualisation library for Python that runs on top of the popular Matplotlib data visualisation library. \n",
    "\n",
    "**Why we need two visualisation tools ? (matplotlib and seaborn)**\n",
    "\n",
    "Seaborn provides a simple interface and aesthetically better-looking plots.It is a sort of high level interface for matplotlib , so easy to learn to create most of the visualisations.where as matplotlib is a low level interface little bit diffult to learn for beginners and its advantage is, it provides most flexibilty and customization than seaborn you can create any sort of visualisation.\n",
    "\n",
    "\n",
    "In this tutorial, you will discover a gentle introduction to Seaborn data visualization for machine learning.\n",
    "\n",
    "After completing this tutorial, you will know:\n",
    "\n",
    "- How to summarize the distribution of variables using bar charts, histograms, and box plots.\n",
    "- How to summarize relationships between predictors and response and among predictors using line plots and scatter plots.\n",
    "- How to compare the distribution and relationships of variables for different class values on the same plot.\n",
    "\n",
    "Let’s get started."
   ]
  },
  {
   "cell_type": "markdown",
   "metadata": {},
   "source": [
    "## Tutorial Overview\n",
    "This tutorial is divided into six parts; they are:\n",
    "\n",
    "- Seaborn Data Visualization Library\n",
    "- Line Plots\n",
    "- Bar Chart Plots\n",
    "- Histogram Plots\n",
    "- Box and Whisker Plots\n",
    "- Scatter Plots"
   ]
  },
  {
   "cell_type": "markdown",
   "metadata": {},
   "source": [
    "### Seaborn Data Visualization Library\n",
    "The primary plotting library for Python is called [Matplotlib.](https://matplotlib.org/)\n",
    "\n",
    "[Seaborn](https://seaborn.pydata.org/) is a plotting library that offers a simpler interface, sensible defaults for plots needed for machine learning, and most importantly, the plots are aesthetically better looking than those in Matplotlib.\n",
    "\n",
    "Seaborn requires that Matplotlib is installed first.\n",
    "Anaconda is an excellent choice that \"just work\" out of the box for Windows, macOS and common Linux platforms.\n",
    "\n",
    "You can install Matplotlib directly using Anaconda as follows.\n",
    "```python\n",
    "conda install -c conda-forge matplotlib\n",
    "```\n"
   ]
  },
  {
   "cell_type": "markdown",
   "metadata": {},
   "source": [
    "Once installed, you can confirm that the library can be loaded and used by executing the version number command, as follows:"
   ]
  },
  {
   "cell_type": "code",
   "execution_count": 1,
   "metadata": {},
   "outputs": [
    {
     "data": {
      "text/plain": [
       "'3.0.3'"
      ]
     },
     "execution_count": 1,
     "metadata": {},
     "output_type": "execute_result"
    }
   ],
   "source": [
    "# matplotlib\n",
    "import matplotlib\n",
    "matplotlib.__version__"
   ]
  },
  {
   "cell_type": "markdown",
   "metadata": {},
   "source": [
    "Next, the Seaborn library can be installed, also using conda:"
   ]
  },
  {
   "cell_type": "markdown",
   "metadata": {},
   "source": [
    "```python\n",
    "conda install -c conda-forge seaborn\n",
    "```"
   ]
  },
  {
   "cell_type": "markdown",
   "metadata": {},
   "source": [
    "Once installed, you can confirm that the library can be loaded and used by executing the version number command, as follows:"
   ]
  },
  {
   "cell_type": "code",
   "execution_count": 2,
   "metadata": {},
   "outputs": [
    {
     "data": {
      "text/plain": [
       "'0.9.0'"
      ]
     },
     "execution_count": 2,
     "metadata": {},
     "output_type": "execute_result"
    }
   ],
   "source": [
    "# seaborn\n",
    "import seaborn\n",
    "seaborn.__version__"
   ]
  },
  {
   "cell_type": "markdown",
   "metadata": {},
   "source": [
    "To show the plot inline, you can use the `%matplotlib inline` jupyter magic command on Matplotlib library. like this:"
   ]
  },
  {
   "cell_type": "code",
   "execution_count": 3,
   "metadata": {},
   "outputs": [],
   "source": [
    "# display the plot inline\n",
    "%matplotlib inline"
   ]
  },
  {
   "cell_type": "markdown",
   "metadata": {},
   "source": [
    "This command is called a magic command of jupyter and enables you to display the plots in the notebook itself as cell output, otherwise plot opens in a new window."
   ]
  },
  {
   "cell_type": "markdown",
   "metadata": {},
   "source": [
    "Alternatively, the plots can be saved to file, such as a PNG formatted image file. The `savefig()` [Matplotlib function](https://matplotlib.org/api/_as_gen/matplotlib.pyplot.savefig.html) can be used to save images."
   ]
  },
  {
   "cell_type": "markdown",
   "metadata": {},
   "source": [
    "**Importantly**, Seaborn plotting functions expect data to be provided as [Pandas DataFrames](https://pandas.pydata.org/pandas-docs/stable/reference/api/pandas.DataFrame.html). This means that if you are loading your data from CSV files, you must use Pandas functions like `read_csv()` to load your data as a DataFrame. When plotting, columns can then be specified via the DataFrame name or column index."
   ]
  },
  {
   "cell_type": "markdown",
   "metadata": {},
   "source": [
    "Now that we have Seaborn installed, let’s look at some common plots we may need when working with machine learning data."
   ]
  },
  {
   "cell_type": "markdown",
   "metadata": {},
   "source": [
    "### Line Plots\n",
    "A line plot is generally used to present observations collected at regular time intervals.\n",
    "\n",
    "The x-axis represents the regular interval, such as time. The y-axis shows the observations, ordered by the x-axis and connected by a line.\n",
    "\n",
    "A line plot can be created in Seaborn by calling the [`lineplot()`](https://seaborn.pydata.org/generated/seaborn.lineplot.html) function and passing the x-axis data for the regular interval, and y-axis for the observations.\n",
    "\n",
    "We can demonstrate a line plot using a time series dataset of [monthly car sales](https://raw.githubusercontent.com/KVSSetty/Datasets/master/monthly-car-sales.csv)\n",
    "\n",
    "The dataset has two columns: “Month” and “Sales.” Month will be used as the x-axis and Sales will be plotted on the y-axis."
   ]
  },
  {
   "cell_type": "markdown",
   "metadata": {},
   "source": [
    "```python\n",
    "...\n",
    "# create line plot\n",
    "sns.lineplot(x='Month', y='Sales', data=dataset)\n",
    "```"
   ]
  },
  {
   "cell_type": "markdown",
   "metadata": {},
   "source": [
    "Combining this all together, the complete example is listed below."
   ]
  },
  {
   "cell_type": "code",
   "execution_count": 4,
   "metadata": {},
   "outputs": [
    {
     "data": {
      "text/plain": [
       "<matplotlib.axes._subplots.AxesSubplot at 0x1e6fe60b4e0>"
      ]
     },
     "execution_count": 4,
     "metadata": {},
     "output_type": "execute_result"
    },
    {
     "data": {
      "image/png": "[encoded data removed]",
      "text/plain": [
       "<Figure size 432x288 with 1 Axes>"
      ]
     },
     "metadata": {
      "needs_background": "light"
     },
     "output_type": "display_data"
    }
   ],
   "source": [
    "# line plot of a time series dataset\n",
    "import pandas as pd\n",
    "import seaborn as sns\n",
    "import matplotlib.pyplot as plt\n",
    "# load the dataset\n",
    "url = 'https://raw.githubusercontent.com/KVSSetty/Datasets/master/monthly-car-sales.csv'\n",
    "df = pd.read_csv(url)\n",
    "# create line plot\n",
    "sns.lineplot(x='Month', y='Sales', data=df)\n",
    "\n"
   ]
  },
  {
   "cell_type": "markdown",
   "metadata": {},
   "source": [
    "Running the example first loads the time series dataset and creates a line plot of the data, clearly showing a trend and seasonality in the sales data. Below is a peak at dataset."
   ]
  },
  {
   "cell_type": "code",
   "execution_count": 5,
   "metadata": {},
   "outputs": [
    {
     "data": {
      "text/html": [
       "<div>\n",
       "<style scoped>\n",
       "    .dataframe tbody tr th:only-of-type {\n",
       "        vertical-align: middle;\n",
       "    }\n",
       "\n",
       "    .dataframe tbody tr th {\n",
       "        vertical-align: top;\n",
       "    }\n",
       "\n",
       "    .dataframe thead th {\n",
       "        text-align: right;\n",
       "    }\n",
       "</style>\n",
       "<table border=\"1\" class=\"dataframe\">\n",
       "  <thead>\n",
       "    <tr style=\"text-align: right;\">\n",
       "      <th></th>\n",
       "      <th>Month</th>\n",
       "      <th>Sales</th>\n",
       "    </tr>\n",
       "  </thead>\n",
       "  <tbody>\n",
       "    <tr>\n",
       "      <th>0</th>\n",
       "      <td>1960-01</td>\n",
       "      <td>6550</td>\n",
       "    </tr>\n",
       "    <tr>\n",
       "      <th>1</th>\n",
       "      <td>1960-02</td>\n",
       "      <td>8728</td>\n",
       "    </tr>\n",
       "    <tr>\n",
       "      <th>2</th>\n",
       "      <td>1960-03</td>\n",
       "      <td>12026</td>\n",
       "    </tr>\n",
       "    <tr>\n",
       "      <th>3</th>\n",
       "      <td>1960-04</td>\n",
       "      <td>14395</td>\n",
       "    </tr>\n",
       "    <tr>\n",
       "      <th>4</th>\n",
       "      <td>1960-05</td>\n",
       "      <td>14587</td>\n",
       "    </tr>\n",
       "  </tbody>\n",
       "</table>\n",
       "</div>"
      ],
      "text/plain": [
       "     Month  Sales\n",
       "0  1960-01   6550\n",
       "1  1960-02   8728\n",
       "2  1960-03  12026\n",
       "3  1960-04  14395\n",
       "4  1960-05  14587"
      ]
     },
     "execution_count": 5,
     "metadata": {},
     "output_type": "execute_result"
    }
   ],
   "source": [
    "df.head()"
   ]
  },
  {
   "cell_type": "markdown",
   "metadata": {},
   "source": [
    "For more great examples of line plots with Seaborn, see: [Visualizing statistical relationships](https://seaborn.pydata.org/tutorial/relational.html)."
   ]
  },
  {
   "cell_type": "markdown",
   "metadata": {},
   "source": [
    "### Bar Chart Plots\n",
    "A bar chart is generally used to present relative quantities for multiple categories in a categorical variable.\n",
    "That is, it show the counts of observations in each categorical bin using bars.\n",
    "\n",
    "The x-axis represents the categories that are spaced evenly. The y-axis represents the quantity for each category and is drawn as a bar from the baseline to the appropriate level on the y-axis.\n",
    "\n",
    "A bar chart can be created in Seaborn by calling the [`countplot()` function](https://seaborn.pydata.org/generated/seaborn.countplot.html) and passing the data.\n",
    "\n",
    "We will demonstrate a bar chart with a variable from the [breast cancer classification dataset](https://raw.githubusercontent.com/KVSSetty/Datasets/master/breast-cancer.csv) that is comprised of categorical input variables.\n",
    "\n",
    "We will just plot one variable, in this case, the first variable which is the age bracket (column index=0 as there is no headers in the csv file)."
   ]
  },
  {
   "cell_type": "markdown",
   "metadata": {},
   "source": [
    "```python\n",
    "...\n",
    "# create bar chart\n",
    "sns.countplot(x=0, data=dataset)\n",
    "```"
   ]
  },
  {
   "cell_type": "code",
   "execution_count": 6,
   "metadata": {},
   "outputs": [
    {
     "data": {
      "text/plain": [
       "<matplotlib.axes._subplots.AxesSubplot at 0x1e68008a6d8>"
      ]
     },
     "execution_count": 6,
     "metadata": {},
     "output_type": "execute_result"
    },
    {
     "data": {
      "image/png": "[encoded data removed]",
      "text/plain": [
       "<Figure size 432x288 with 1 Axes>"
      ]
     },
     "metadata": {
      "needs_background": "light"
     },
     "output_type": "display_data"
    }
   ],
   "source": [
    "# bar chart plot of a categorical variable\n",
    "# load the dataset\n",
    "url = 'https://raw.githubusercontent.com/KVSSetty/Datasets/master/breast-cancer.csv'\n",
    "df = pd.read_csv(url, header=None)\n",
    "# create bar chart plot\n",
    "sns.countplot(x=0, data=df)\n"
   ]
  },
  {
   "cell_type": "markdown",
   "metadata": {},
   "source": [
    "Running the example first loads the breast cancer dataset and creates a bar chart plot of the data, showing each age group and the number of individuals (observations) that fall within reach group.\n",
    "\n"
   ]
  },
  {
   "cell_type": "code",
   "execution_count": 7,
   "metadata": {},
   "outputs": [
    {
     "data": {
      "text/html": [
       "<div>\n",
       "<style scoped>\n",
       "    .dataframe tbody tr th:only-of-type {\n",
       "        vertical-align: middle;\n",
       "    }\n",
       "\n",
       "    .dataframe tbody tr th {\n",
       "        vertical-align: top;\n",
       "    }\n",
       "\n",
       "    .dataframe thead th {\n",
       "        text-align: right;\n",
       "    }\n",
       "</style>\n",
       "<table border=\"1\" class=\"dataframe\">\n",
       "  <thead>\n",
       "    <tr style=\"text-align: right;\">\n",
       "      <th></th>\n",
       "      <th>0</th>\n",
       "      <th>1</th>\n",
       "      <th>2</th>\n",
       "      <th>3</th>\n",
       "      <th>4</th>\n",
       "      <th>5</th>\n",
       "      <th>6</th>\n",
       "      <th>7</th>\n",
       "      <th>8</th>\n",
       "      <th>9</th>\n",
       "    </tr>\n",
       "  </thead>\n",
       "  <tbody>\n",
       "    <tr>\n",
       "      <th>0</th>\n",
       "      <td>'40-49'</td>\n",
       "      <td>'premeno'</td>\n",
       "      <td>'15-19'</td>\n",
       "      <td>'0-2'</td>\n",
       "      <td>'yes'</td>\n",
       "      <td>'3'</td>\n",
       "      <td>'right'</td>\n",
       "      <td>'left_up'</td>\n",
       "      <td>'no'</td>\n",
       "      <td>'recurrence-events'</td>\n",
       "    </tr>\n",
       "    <tr>\n",
       "      <th>1</th>\n",
       "      <td>'50-59'</td>\n",
       "      <td>'ge40'</td>\n",
       "      <td>'15-19'</td>\n",
       "      <td>'0-2'</td>\n",
       "      <td>'no'</td>\n",
       "      <td>'1'</td>\n",
       "      <td>'right'</td>\n",
       "      <td>'central'</td>\n",
       "      <td>'no'</td>\n",
       "      <td>'no-recurrence-events'</td>\n",
       "    </tr>\n",
       "    <tr>\n",
       "      <th>2</th>\n",
       "      <td>'50-59'</td>\n",
       "      <td>'ge40'</td>\n",
       "      <td>'35-39'</td>\n",
       "      <td>'0-2'</td>\n",
       "      <td>'no'</td>\n",
       "      <td>'2'</td>\n",
       "      <td>'left'</td>\n",
       "      <td>'left_low'</td>\n",
       "      <td>'no'</td>\n",
       "      <td>'recurrence-events'</td>\n",
       "    </tr>\n",
       "    <tr>\n",
       "      <th>3</th>\n",
       "      <td>'40-49'</td>\n",
       "      <td>'premeno'</td>\n",
       "      <td>'35-39'</td>\n",
       "      <td>'0-2'</td>\n",
       "      <td>'yes'</td>\n",
       "      <td>'3'</td>\n",
       "      <td>'right'</td>\n",
       "      <td>'left_low'</td>\n",
       "      <td>'yes'</td>\n",
       "      <td>'no-recurrence-events'</td>\n",
       "    </tr>\n",
       "    <tr>\n",
       "      <th>4</th>\n",
       "      <td>'40-49'</td>\n",
       "      <td>'premeno'</td>\n",
       "      <td>'30-34'</td>\n",
       "      <td>'3-5'</td>\n",
       "      <td>'yes'</td>\n",
       "      <td>'2'</td>\n",
       "      <td>'left'</td>\n",
       "      <td>'right_up'</td>\n",
       "      <td>'no'</td>\n",
       "      <td>'recurrence-events'</td>\n",
       "    </tr>\n",
       "  </tbody>\n",
       "</table>\n",
       "</div>"
      ],
      "text/plain": [
       "         0          1        2      3      4    5        6           7      8  \\\n",
       "0  '40-49'  'premeno'  '15-19'  '0-2'  'yes'  '3'  'right'   'left_up'   'no'   \n",
       "1  '50-59'     'ge40'  '15-19'  '0-2'   'no'  '1'  'right'   'central'   'no'   \n",
       "2  '50-59'     'ge40'  '35-39'  '0-2'   'no'  '2'   'left'  'left_low'   'no'   \n",
       "3  '40-49'  'premeno'  '35-39'  '0-2'  'yes'  '3'  'right'  'left_low'  'yes'   \n",
       "4  '40-49'  'premeno'  '30-34'  '3-5'  'yes'  '2'   'left'  'right_up'   'no'   \n",
       "\n",
       "                        9  \n",
       "0     'recurrence-events'  \n",
       "1  'no-recurrence-events'  \n",
       "2     'recurrence-events'  \n",
       "3  'no-recurrence-events'  \n",
       "4     'recurrence-events'  "
      ]
     },
     "execution_count": 7,
     "metadata": {},
     "output_type": "execute_result"
    }
   ],
   "source": [
    "df.head()"
   ]
  },
  {
   "cell_type": "markdown",
   "metadata": {},
   "source": [
    "We might also want to plot the counts for each category for a variable like age-bracket (column index=0), against the class label.\n",
    "\n",
    "This can be achieved using the `countplot()` function and specifying the class variable (column index 9) via the `hue` argument, as follows:"
   ]
  },
  {
   "cell_type": "markdown",
   "metadata": {},
   "source": [
    "```python\n",
    "...\n",
    "# create bar chart plot\n",
    "sns.countplot(x=0, hue=9, data=df)\n",
    "```"
   ]
  },
  {
   "cell_type": "code",
   "execution_count": 8,
   "metadata": {},
   "outputs": [
    {
     "data": {
      "text/plain": [
       "<matplotlib.axes._subplots.AxesSubplot at 0x1e6800ad908>"
      ]
     },
     "execution_count": 8,
     "metadata": {},
     "output_type": "execute_result"
    },
    {
     "data": {
      "image/png": "[encoded data removed]",
      "text/plain": [
       "<Figure size 432x288 with 1 Axes>"
      ]
     },
     "metadata": {
      "needs_background": "light"
     },
     "output_type": "display_data"
    }
   ],
   "source": [
    "# bar chart plot of a categorical variable against a class variable\n",
    "# load the dataset\n",
    "url = 'https://raw.githubusercontent.com/KVSSetty/Datasets/master/breast-cancer.csv'\n",
    "df = pd.read_csv(url, header=None)\n",
    "# create bar chart plot\n",
    "sns.countplot(x=0, hue=9, data=df)\n"
   ]
  },
  {
   "cell_type": "markdown",
   "metadata": {},
   "source": [
    "Running the example first loads the breast cancer dataset and creates a bar chart plot of the data, showing each age group and the number of individuals (obsevations) that fall within each group separated by the two class labels ( reponse variable) for the dataset."
   ]
  },
  {
   "cell_type": "markdown",
   "metadata": {},
   "source": [
    "For more detailed examples of bar chart plots with Seaborn, see: [Plotting with categorical data](https://seaborn.pydata.org/tutorial/categorical.html)."
   ]
  },
  {
   "cell_type": "markdown",
   "metadata": {},
   "source": [
    "### Histogram Plots\n",
    "A histogram plot is generally used to summarize the distribution of a numerical data variable.\n",
    "\n",
    "The x-axis represents discrete bins or intervals for the observations. For example, observations with values between 1 and 10 may be split into five bins, the values [1,2] would be allocated to the first bin, [3,4] would be allocated to the second bin, and so on.\n",
    "\n",
    "The y-axis represents the frequency or count of the number of observations in the dataset that belong to each bin.\n",
    "\n",
    "Essentially, a dataset vaiable (predictor/feature) is transformed into a bar chart where each category on the x-axis represents an interval of observation values.\n",
    "\n",
    "A histogram can be created in Seaborn by calling the [`distplot()` function](https://seaborn.pydata.org/generated/seaborn.distplot.html) and passing the variable.\n",
    "\n",
    "We will demonstrate a histogram with a numerical variable from the [diabetes classification dataset](https://raw.githubusercontent.com/KVSSetty/Datasets/master/pima-indians-diabetes.csv). We will just plot one variable, in this case, the first variable, which is the number of times that a patient was pregnant."
   ]
  },
  {
   "cell_type": "markdown",
   "metadata": {},
   "source": [
    "```python\n",
    "...\n",
    "# create histogram plot\n",
    "distplot(df[[0]])\n",
    "```"
   ]
  },
  {
   "cell_type": "code",
   "execution_count": 9,
   "metadata": {},
   "outputs": [],
   "source": [
    "# histogram plot of a numerical variable\n",
    "# load the dataset\n",
    "url = 'https://raw.githubusercontent.com/KVSSetty/Datasets/master/pima-indians-diabetes.csv'\n",
    "df = pd.read_csv(url, header=None)"
   ]
  },
  {
   "cell_type": "code",
   "execution_count": 10,
   "metadata": {},
   "outputs": [
    {
     "data": {
      "text/html": [
       "<div>\n",
       "<style scoped>\n",
       "    .dataframe tbody tr th:only-of-type {\n",
       "        vertical-align: middle;\n",
       "    }\n",
       "\n",
       "    .dataframe tbody tr th {\n",
       "        vertical-align: top;\n",
       "    }\n",
       "\n",
       "    .dataframe thead th {\n",
       "        text-align: right;\n",
       "    }\n",
       "</style>\n",
       "<table border=\"1\" class=\"dataframe\">\n",
       "  <thead>\n",
       "    <tr style=\"text-align: right;\">\n",
       "      <th></th>\n",
       "      <th>0</th>\n",
       "      <th>1</th>\n",
       "      <th>2</th>\n",
       "      <th>3</th>\n",
       "      <th>4</th>\n",
       "      <th>5</th>\n",
       "      <th>6</th>\n",
       "      <th>7</th>\n",
       "      <th>8</th>\n",
       "    </tr>\n",
       "  </thead>\n",
       "  <tbody>\n",
       "    <tr>\n",
       "      <th>0</th>\n",
       "      <td>6</td>\n",
       "      <td>148</td>\n",
       "      <td>72</td>\n",
       "      <td>35</td>\n",
       "      <td>0</td>\n",
       "      <td>33.6</td>\n",
       "      <td>0.627</td>\n",
       "      <td>50</td>\n",
       "      <td>1</td>\n",
       "    </tr>\n",
       "    <tr>\n",
       "      <th>1</th>\n",
       "      <td>1</td>\n",
       "      <td>85</td>\n",
       "      <td>66</td>\n",
       "      <td>29</td>\n",
       "      <td>0</td>\n",
       "      <td>26.6</td>\n",
       "      <td>0.351</td>\n",
       "      <td>31</td>\n",
       "      <td>0</td>\n",
       "    </tr>\n",
       "    <tr>\n",
       "      <th>2</th>\n",
       "      <td>8</td>\n",
       "      <td>183</td>\n",
       "      <td>64</td>\n",
       "      <td>0</td>\n",
       "      <td>0</td>\n",
       "      <td>23.3</td>\n",
       "      <td>0.672</td>\n",
       "      <td>32</td>\n",
       "      <td>1</td>\n",
       "    </tr>\n",
       "    <tr>\n",
       "      <th>3</th>\n",
       "      <td>1</td>\n",
       "      <td>89</td>\n",
       "      <td>66</td>\n",
       "      <td>23</td>\n",
       "      <td>94</td>\n",
       "      <td>28.1</td>\n",
       "      <td>0.167</td>\n",
       "      <td>21</td>\n",
       "      <td>0</td>\n",
       "    </tr>\n",
       "    <tr>\n",
       "      <th>4</th>\n",
       "      <td>0</td>\n",
       "      <td>137</td>\n",
       "      <td>40</td>\n",
       "      <td>35</td>\n",
       "      <td>168</td>\n",
       "      <td>43.1</td>\n",
       "      <td>2.288</td>\n",
       "      <td>33</td>\n",
       "      <td>1</td>\n",
       "    </tr>\n",
       "  </tbody>\n",
       "</table>\n",
       "</div>"
      ],
      "text/plain": [
       "   0    1   2   3    4     5      6   7  8\n",
       "0  6  148  72  35    0  33.6  0.627  50  1\n",
       "1  1   85  66  29    0  26.6  0.351  31  0\n",
       "2  8  183  64   0    0  23.3  0.672  32  1\n",
       "3  1   89  66  23   94  28.1  0.167  21  0\n",
       "4  0  137  40  35  168  43.1  2.288  33  1"
      ]
     },
     "execution_count": 10,
     "metadata": {},
     "output_type": "execute_result"
    }
   ],
   "source": [
    "df.head()"
   ]
  },
  {
   "cell_type": "code",
   "execution_count": 11,
   "metadata": {},
   "outputs": [
    {
     "data": {
      "text/plain": [
       "<matplotlib.axes._subplots.AxesSubplot at 0x1e68017bf60>"
      ]
     },
     "execution_count": 11,
     "metadata": {},
     "output_type": "execute_result"
    },
    {
     "data": {
      "image/png": "[encoded data removed]",
      "text/plain": [
       "<Figure size 432x288 with 1 Axes>"
      ]
     },
     "metadata": {
      "needs_background": "light"
     },
     "output_type": "display_data"
    }
   ],
   "source": [
    "# create histogram plot\n",
    "sns.distplot(df[0])"
   ]
  },
  {
   "cell_type": "markdown",
   "metadata": {},
   "source": [
    "Running the example first loads the diabetes dataset, take a peek at the dataset and creates a histogram plot of the variable (index=0), showing the distribution of the values with a hard cut-off at zero.\n",
    "\n",
    "The plot shows both the histogram (counts of bins) as well as a smooth estimate of the probability density function."
   ]
  },
  {
   "cell_type": "markdown",
   "metadata": {},
   "source": [
    "For more elobarate examples of histogram plots with Seaborn, see: [Visualizing the distribution of a dataset](https://seaborn.pydata.org/tutorial/distributions.html)."
   ]
  },
  {
   "cell_type": "markdown",
   "metadata": {},
   "source": [
    "### Box Plots\n",
    "A box plot, (or box-whisker plot), is generally used to summarize the distribution of a data sample.\n",
    "\n",
    "The x-axis is used to represent the data variable (predictor/feature), where multiple boxplots can be drawn side by side on the x-axis if desired.\n",
    "\n",
    "The y-axis represents the observation values. A box is drawn to summarize the middle 50 percent of the dataset starting at the observation at the 25th percentile and ending at the 75th percentile. This is called the [interquartile range, or IQR](https://en.wikipedia.org/wiki/Interquartile_range). The median, or 50th percentile, is drawn with a line inside the rectangular box.\n",
    "\n",
    "Outside lines called whiskers are drawn extending from both ends of the box, calculated as (1.5 * IQR) to demonstrate the expected range of sensible values in the distribution. Observations outside the whiskers might be outliers and are drawn with small circles.\n",
    "\n",
    "A boxplot can be created in Seaborn by calling the [`boxplot()` function](https://seaborn.pydata.org/generated/seaborn.boxplot.html) and passing the data.\n",
    "\n",
    "We will demonstrate a boxplot with a numerical variable from the [diabetes classification dataset](https://raw.githubusercontent.com/KVSSetty/Datasets/master/pima-indians-diabetes.csv). We will just plot one variable, in this case, the first variable, which is the number of times that a patient was pregnant."
   ]
  },
  {
   "cell_type": "markdown",
   "metadata": {},
   "source": [
    "```python\n",
    "...\n",
    "# create box and whisker plot\n",
    "boxplot(x=0, data=dataset)\n",
    "```"
   ]
  },
  {
   "cell_type": "code",
   "execution_count": 12,
   "metadata": {},
   "outputs": [
    {
     "data": {
      "text/plain": [
       "<matplotlib.axes._subplots.AxesSubplot at 0x1e6801f2c88>"
      ]
     },
     "execution_count": 12,
     "metadata": {},
     "output_type": "execute_result"
    },
    {
     "data": {
      "image/png": "[encoded data removed]",
      "text/plain": [
       "<Figure size 432x288 with 1 Axes>"
      ]
     },
     "metadata": {
      "needs_background": "light"
     },
     "output_type": "display_data"
    }
   ],
   "source": [
    "# box and whisker plot of a numerical variable\n",
    "# load the dataset\n",
    "url = 'https://raw.githubusercontent.com/KVSSetty/Datasets/master/pima-indians-diabetes.csv'\n",
    "df = pd.read_csv(url, header=None)\n",
    "# create box and whisker plot\n",
    "sns.boxplot(y=0, data=df)\n"
   ]
  },
  {
   "cell_type": "markdown",
   "metadata": {},
   "source": [
    "Running the example first loads the diabetes dataset and creates a boxplot plot of the first input variable, showing the distribution of the number of times patients were pregnant.\n",
    "\n",
    "We can see the median just above 2.5 times, some outliers up around 15 times (wow! great lady)."
   ]
  },
  {
   "cell_type": "markdown",
   "metadata": {},
   "source": [
    "We might also want to plot the distribution of the numerical variable for each value of a categorical variable, such as the first variable, against the target label.\n",
    "\n",
    "This can be achieved by calling the `boxplot()` function and passing the target variable as the x-axis and the numerical variable as the y-axis like this."
   ]
  },
  {
   "cell_type": "markdown",
   "metadata": {},
   "source": [
    "```python\n",
    "...\n",
    "# create box and whisker plot\n",
    "boxplot(x=8, y=0, data=dataset)\n",
    "```"
   ]
  },
  {
   "cell_type": "code",
   "execution_count": 13,
   "metadata": {},
   "outputs": [
    {
     "data": {
      "text/plain": [
       "<matplotlib.axes._subplots.AxesSubplot at 0x1e68026a198>"
      ]
     },
     "execution_count": 13,
     "metadata": {},
     "output_type": "execute_result"
    },
    {
     "data": {
      "image/png": "[encoded data removed]",
      "text/plain": [
       "<Figure size 432x288 with 1 Axes>"
      ]
     },
     "metadata": {
      "needs_background": "light"
     },
     "output_type": "display_data"
    }
   ],
   "source": [
    "# box and whisker plot of a numerical variable vs class label\n",
    "# load the dataset\n",
    "url = 'https://raw.githubusercontent.com/KVSSetty/Datasets/master/pima-indians-diabetes.csv'\n",
    "df = pd.read_csv(url, header=None)\n",
    "# create box and whisker plot\n",
    "sns.boxplot(x=8, y=0, data=df)\n"
   ]
  },
  {
   "cell_type": "markdown",
   "metadata": {},
   "source": [
    "Running the example first loads the diabetes dataset and creates a boxplot of the data, showing the distribution of the number of times pregnant as a numerical variable for the two-class labels."
   ]
  },
  {
   "cell_type": "markdown",
   "metadata": {},
   "source": [
    "### Scatter Plots\n",
    "A scatter plot, or scatterplot, is generally used to summarize the relationship between two paired data variables.\n",
    "\n",
    "Paired data variables mean that two measures were recorded for a given set of observations, such as the weights and heights of persons.\n",
    "\n",
    "The x-axis represents observation values for the first variable, and the y-axis represents the observation values for the second variable. Each point on the plot represents a single observation.\n",
    "\n",
    "A scatterplot can be created in Seaborn by calling the [`scatterplot()` function](https://seaborn.pydata.org/generated/seaborn.scatterplot.html) and passing the two numerical variables.\n",
    "\n",
    "We will demonstrate a scatterplot with two numerical variables from the [diabetes classification dataset](https://raw.githubusercontent.com/KVSSetty/Datasets/master/pima-indians-diabetes.csv). We will plot the first versus the second variable, in this case, the first variable (index=0), which is the number of times that a patient was pregnant, and the second(index=1) is the plasma glucose concentration after a two hour oral glucose tolerance test (more details of the variables [here](https://raw.githubusercontent.com/KVSSetty/Datasets/master/pima-indians-diabetes.names))."
   ]
  },
  {
   "cell_type": "markdown",
   "metadata": {},
   "source": [
    "```python\n",
    "...\n",
    "# create scatter plot\n",
    "scatterplot(x=0, y=1, data=df)\n",
    "```"
   ]
  },
  {
   "cell_type": "code",
   "execution_count": 14,
   "metadata": {},
   "outputs": [
    {
     "data": {
      "text/plain": [
       "<matplotlib.axes._subplots.AxesSubplot at 0x1e6802c5630>"
      ]
     },
     "execution_count": 14,
     "metadata": {},
     "output_type": "execute_result"
    },
    {
     "data": {
      "image/png": "[encoded data removed]",
      "text/plain": [
       "<Figure size 432x288 with 1 Axes>"
      ]
     },
     "metadata": {
      "needs_background": "light"
     },
     "output_type": "display_data"
    }
   ],
   "source": [
    "# scatter plot of two numerical variables\n",
    "# load the dataset\n",
    "url = 'https://raw.githubusercontent.com/KVSSetty/Datasets/master/pima-indians-diabetes.csv'\n",
    "dataset = pd.read_csv(url, header=None)\n",
    "# create scatter plot\n",
    "sns.scatterplot(x=0, y=1, data=dataset)\n"
   ]
  },
  {
   "cell_type": "markdown",
   "metadata": {},
   "source": [
    "Running the example first loads the diabetes dataset and creates a scatter plot of the first two input variables.\n",
    "\n",
    "We can see a somewhat uniform relationship between the two variables."
   ]
  },
  {
   "cell_type": "markdown",
   "metadata": {},
   "source": [
    "We might also want to plot the relationship for the pair of numerical variables against the class label.\n",
    "\n",
    "This can be achieved using the `scatterplot()` function and specifying the class variable (column index 8) via the `hue` argument, as follows:"
   ]
  },
  {
   "cell_type": "markdown",
   "metadata": {},
   "source": [
    "```python\n",
    "...\n",
    "# create scatter plot\n",
    "scatterplot(x=0, y=1, hue=8, data=df)\n",
    "```"
   ]
  },
  {
   "cell_type": "code",
   "execution_count": 15,
   "metadata": {},
   "outputs": [
    {
     "data": {
      "text/plain": [
       "<matplotlib.axes._subplots.AxesSubplot at 0x1e680332e10>"
      ]
     },
     "execution_count": 15,
     "metadata": {},
     "output_type": "execute_result"
    },
    {
     "data": {
      "image/png": "[encoded data removed]",
      "text/plain": [
       "<Figure size 432x288 with 1 Axes>"
      ]
     },
     "metadata": {
      "needs_background": "light"
     },
     "output_type": "display_data"
    }
   ],
   "source": [
    "# scatter plot of two numerical variables vs class label\n",
    "# load the dataset\n",
    "url = 'https://raw.githubusercontent.com/KVSSetty/Datasets/master/pima-indians-diabetes.csv'\n",
    "df = pd.read_csv(url, header=None)\n",
    "# create scatter plot\n",
    "sns.scatterplot(x=0, y=1, hue=8, data=df)\n"
   ]
  },
  {
   "cell_type": "markdown",
   "metadata": {},
   "source": [
    "Running the example first loads the diabetes dataset and creates a scatter plot of the first two variables vs. class label.\n",
    "\n"
   ]
  },
  {
   "cell_type": "markdown",
   "metadata": {},
   "source": [
    "**Note:** x-axis= column index 0 , y-axis= column index 1 and hue = column index 8, as there are no column headers for the dataset"
   ]
  },
  {
   "cell_type": "markdown",
   "metadata": {},
   "source": [
    "## Further Reading\n",
    "This section provides more resources on the topic if you are looking to go deeper.\n",
    "\n",
    "[Data Visulisation on Wikipedia](https://en.wikipedia.org/wiki/Data_visualization)\n",
    "\n",
    "[Book-Python for Data Analysis: Data Wrangling with Pandas, NumPy, and IPython, 2017.](https://www.amazon.com/Python-Data-Analysis-Wrangling-IPython/dp/1491957662/ref=as_li_ss_tl?_encoding=UTF8&pd_rd_i=1491957662&pd_rd_r=9VKN1Y8QC94PBNVXBZQC&pd_rd_w=nAOCo&pd_rd_wg=EckJh&psc=1&refRID=9VKN1Y8QC94PBNVXBZQC&linkCode=sl1&tag=inspiredalgor-20&linkId=534839ae4e4cd21d4d734cc0179c6aa5)\n",
    "\n",
    "[Seaborn Homepage.](https://seaborn.pydata.org/index.html)\n",
    "\n",
    "[Official seaborn tutorial.](https://seaborn.pydata.org/tutorial.html)\n",
    "\n",
    "[Interquartile range on Wikipedia](https://en.wikipedia.org/wiki/Interquartile_range)"
   ]
  },
  {
   "cell_type": "markdown",
   "metadata": {},
   "source": [
    "## Summary\n",
    "In this tutorial, you discovered a gentle introduction to Seaborn data visualization for machine learning.\n",
    "\n",
    "Specifically, you learned:\n",
    "\n",
    "- How to summarize the distribution of variables using bar charts, histograms, and box and whisker plots.\n",
    "- How to summarize relationships using line plots and scatter plots.\n",
    "- How to compare the distribution and relationships of variables for different class values on the same plot."
   ]
  },
  {
   "cell_type": "markdown",
   "metadata": {},
   "source": [
    "**Do you have any questions?**\n",
    "Ask your questions in the comments below and I will try my best to answer."
   ]
  }
 ],
 "metadata": {
  "kernelspec": {
   "display_name": "Python 3",
   "language": "python",
   "name": "python3"
  },
  "language_info": {
   "codemirror_mode": {
    "name": "ipython",
    "version": 3
   },
   "file_extension": ".py",
   "mimetype": "text/x-python",
   "name": "python",
   "nbconvert_exporter": "python",
   "pygments_lexer": "ipython3",
   "version": "3.6.9"
  }
 },
 "nbformat": 4,
 "nbformat_minor": 4
}
